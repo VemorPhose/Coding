{
 "cells": [
  {
   "cell_type": "markdown",
   "id": "b930fb91",
   "metadata": {},
   "source": [
    "## Years Experience vs Salary Linear Regression"
   ]
  },
  {
   "cell_type": "code",
   "execution_count": 12,
   "id": "d3d806b9",
   "metadata": {},
   "outputs": [],
   "source": [
    "import numpy as np\n",
    "import pandas as pd\n",
    "import matplotlib.pyplot as plt\n",
    "\n",
    "from sklearn.model_selection import train_test_split"
   ]
  },
  {
   "cell_type": "markdown",
   "id": "86e0b7fe",
   "metadata": {},
   "source": [
    "### 1. Read dataset"
   ]
  },
  {
   "cell_type": "code",
   "execution_count": 13,
   "id": "f5cc936d",
   "metadata": {},
   "outputs": [
    {
     "name": "stdout",
     "output_type": "stream",
     "text": [
      "number of features = 2\n",
      "number of patterns = 30\n",
      "   YearsExperience  Salary\n",
      "0              1.1   39343\n",
      "1              1.3   46205\n",
      "2              1.5   37731\n",
      "3              2.0   43525\n",
      "4              2.2   39891\n"
     ]
    }
   ],
   "source": [
    "data = pd.read_csv('salary_data.csv')\n",
    "print(f'number of features = {data.shape[1]}')\n",
    "print(f'number of patterns = {data.shape[0]}')\n",
    "print(data.head())"
   ]
  },
  {
   "cell_type": "code",
   "execution_count": 14,
   "id": "882e273d",
   "metadata": {},
   "outputs": [
    {
     "name": "stdout",
     "output_type": "stream",
     "text": [
      "range of salaries: 37731 - 122391\n"
     ]
    }
   ],
   "source": [
    "print(f'range of salaries: {min(data['Salary'])} - {max(data['Salary'])}')"
   ]
  },
  {
   "cell_type": "markdown",
   "id": "713d9e0b",
   "metadata": {},
   "source": [
    "### 2. Scatter Plot"
   ]
  },
  {
   "cell_type": "code",
   "execution_count": 15,
   "id": "7fb70020",
   "metadata": {},
   "outputs": [],
   "source": [
    "X = data['YearsExperience'].values.flatten()\n",
    "y = data['Salary'].values.flatten()"
   ]
  },
  {
   "cell_type": "code",
   "execution_count": 25,
   "id": "257fd609",
   "metadata": {},
   "outputs": [
    {
     "data": {
      "image/png": "[encoded data removed]",
      "text/plain": [
       "<Figure size 640x480 with 1 Axes>"
      ]
     },
     "metadata": {},
     "output_type": "display_data"
    }
   ],
   "source": [
    "plt.scatter(X, y, color='blue', marker='o')\n",
    "plt.xlabel('YearsExperience')\n",
    "plt.ylabel('Salary')\n",
    "plt.title('Salary vs Years of Experience')\n",
    "plt.savefig('salary_vs_experience.png')\n",
    "plt.show()"
   ]
  },
  {
   "cell_type": "markdown",
   "id": "354e78cb",
   "metadata": {},
   "source": [
    "### 3. Train Test Split"
   ]
  },
  {
   "cell_type": "code",
   "execution_count": 17,
   "id": "be087608",
   "metadata": {},
   "outputs": [],
   "source": [
    "X_train, X_test, y_train, y_test = train_test_split(X, y, test_size=0.1, random_state=42)"
   ]
  },
  {
   "cell_type": "markdown",
   "id": "218e0a3c",
   "metadata": {},
   "source": [
    "### 4. Stats"
   ]
  },
  {
   "cell_type": "code",
   "execution_count": 22,
   "id": "69c0a632",
   "metadata": {},
   "outputs": [
    {
     "name": "stdout",
     "output_type": "stream",
     "text": [
      "std of YearsExperience: 2.755351446044742\n",
      "var of YearsExperience: 7.5919615912208505\n",
      "std of Salary: 26384.151338688644\n",
      "var of Salary: 696123441.8628258\n",
      "covariance b/w YearsExperience and Salary: 73883.05883190883\n"
     ]
    }
   ],
   "source": [
    "print(f'std of YearsExperience: {X_train.std()}')\n",
    "print(f'var of YearsExperience: {X_train.var()}')\n",
    "\n",
    "print(f'std of Salary: {y_train.std()}')\n",
    "print(f'var of Salary: {y_train.var()}')\n",
    "\n",
    "print(f'covariance b/w YearsExperience and Salary: {np.cov(X_train, y_train)[0, 1]}')"
   ]
  },
  {
   "cell_type": "markdown",
   "id": "0f4ff715",
   "metadata": {},
   "source": [
    "### 5. Pearson Coefficient"
   ]
  },
  {
   "cell_type": "code",
   "execution_count": 23,
   "id": "6a026d43",
   "metadata": {},
   "outputs": [
    {
     "name": "stdout",
     "output_type": "stream",
     "text": [
      "Pearson correlation coefficient: 0.9786655942621538\n"
     ]
    }
   ],
   "source": [
    "mean_x = X_train.mean()\n",
    "mean_y = y_train.mean()\n",
    "\n",
    "numerator = np.sum((X_train - mean_x) * (y_train - mean_y))\n",
    "denominator = np.sqrt(np.sum((X_train - mean_x)**2) * np.sum((y_train - mean_y)**2))\n",
    "\n",
    "pearson_r = numerator / denominator\n",
    "print(f'Pearson correlation coefficient: {pearson_r}')"
   ]
  }
 ],
 "metadata": {
  "kernelspec": {
   "display_name": "Python 3",
   "language": "python",
   "name": "python3"
  },
  "language_info": {
   "codemirror_mode": {
    "name": "ipython",
    "version": 3
   },
   "file_extension": ".py",
   "mimetype": "text/x-python",
   "name": "python",
   "nbconvert_exporter": "python",
   "pygments_lexer": "ipython3",
   "version": "3.12.10"
  }
 },
 "nbformat": 4,
 "nbformat_minor": 5
}
