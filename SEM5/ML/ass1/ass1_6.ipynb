{
 "cells": [
  {
   "cell_type": "markdown",
   "id": "02ad4076",
   "metadata": {},
   "source": [
    "(a) Write a program to create a synthetic dataset for car reselling price with three numerical\n",
    "variables as below:\n",
    "1. price: Target variable (in dollars/ Rs.).\n",
    "2. mileage: Independent variable.\n",
    "3. Age of the car: Independent variable (can be calculated as ((current year)- (year\n",
    "of manufacture)), where current year is 2025.\n",
    "\n",
    "(b) Write a program to calculate the Pearson’s correlation coefficients for all the variable\n",
    "pairs and display it. Determine the pairs with highest (positive / negative) correlations\n",
    "and interpret the results."
   ]
  },
  {
   "cell_type": "code",
   "execution_count": 2,
   "id": "9b202e96",
   "metadata": {},
   "outputs": [],
   "source": [
    "import numpy as np\n",
    "import pandas as pd\n",
    "import matplotlib.pyplot as plt"
   ]
  },
  {
   "cell_type": "code",
   "execution_count": 3,
   "id": "c927ec52",
   "metadata": {},
   "outputs": [
    {
     "name": "stdout",
     "output_type": "stream",
     "text": [
      "           price        mileage  age  year_of_manufacture\n",
      "0  231890.748209  235711.137634   14                 2011\n",
      "1  786661.169744   22186.403428    1                 2024\n",
      "2  432489.609656  103841.901293    6                 2019\n",
      "3  711695.669292  137588.960312   10                 2015\n",
      "4  438168.905955  123956.116338   13                 2012\n"
     ]
    }
   ],
   "source": [
    "np.random.seed(42)\n",
    "\n",
    "n = 100\n",
    "current_year = 2025\n",
    "\n",
    "year_of_manufacture = np.random.randint(2005, 2025, size=n)\n",
    "age = current_year - year_of_manufacture\n",
    "\n",
    "avg_km_per_year = np.random.uniform(8_000, 20_000, size=n)\n",
    "mileage = avg_km_per_year * age + np.random.normal(0, 5_000, size=n)\n",
    "mileage = np.clip(mileage, 0, None)\n",
    "\n",
    "base_price_new = np.random.uniform(800_000, 1_800_000, size=n)\n",
    "price = base_price_new * np.exp(-0.08 * age) - 0.8 * mileage + np.random.normal(0, 50_000, size=n)\n",
    "price = np.clip(price, 50_000, None)\n",
    "\n",
    "df = pd.DataFrame({\n",
    "    'price': price,\n",
    "    'mileage': mileage,\n",
    "    'age': age,\n",
    "    'year_of_manufacture': year_of_manufacture\n",
    "})\n",
    "\n",
    "print(df.head())"
   ]
  },
  {
   "cell_type": "code",
   "execution_count": 4,
   "id": "32e9c008",
   "metadata": {},
   "outputs": [],
   "source": [
    "df.to_csv('1_6_car_resell_data.csv', index=False)"
   ]
  },
  {
   "cell_type": "markdown",
   "id": "27b7a886",
   "metadata": {},
   "source": [
    "### Correlation coefficient/matrix"
   ]
  },
  {
   "cell_type": "code",
   "execution_count": null,
   "id": "f9fca4b6",
   "metadata": {},
   "outputs": [
    {
     "name": "stdout",
     "output_type": "stream",
     "text": [
      "Pearson correlation matrix:\n",
      "             price   mileage       age\n",
      "price    1.000000 -0.785850 -0.855167\n",
      "mileage -0.785850  1.000000  0.875149\n",
      "age     -0.855167  0.875149  1.000000 \n",
      "\n",
      "Strongest positive correlation: ('age', 'mileage') = 0.875\n",
      "Strongest negative correlation: ('age', 'price') = -0.855\n",
      "\n",
      "Interpretation: Age and mileage are strongly positively correlated (older cars accumulated more mileage).\n",
      "Interpretation: Price is negatively correlated with age (older cars depreciate).\n"
     ]
    }
   ],
   "source": [
    "import seaborn as sns\n",
    "\n",
    "# Pearson correlation matrix\n",
    "corr = df[['price','mileage','age']].corr(method='pearson')\n",
    "print(\"Pearson correlation matrix:\\n\", corr, \"\\n\")\n",
    "\n",
    "upper = corr.where(np.triu(np.ones(corr.shape), 1).astype(bool))\n",
    "pairs = upper.unstack().dropna()\n",
    "max_pos_pair, max_pos_val = pairs.sort_values(ascending=False).iloc[0:1].index[0], pairs.sort_values(ascending=False).iloc[0]\n",
    "max_neg_pair, max_neg_val = pairs.sort_values().iloc[0:1].index[0], pairs.sort_values().iloc[0]\n",
    "\n",
    "print(f\"Strongest positive correlation: {max_pos_pair} = {max_pos_val:.3f}\")\n",
    "print(f\"Strongest negative correlation: {max_neg_pair} = {max_neg_val:.3f}\\n\")\n",
    "\n",
    "if ('age','mileage') in [max_pos_pair, max_neg_pair] or ('mileage','age') in [max_pos_pair, max_neg_pair]:\n",
    "    print(\"Interpretation: Age and mileage are strongly positively correlated (older cars accumulated more mileage).\")\n",
    "if ('price','age') in [max_pos_pair, max_neg_pair] or ('age','price') in [max_pos_pair, max_neg_pair]:\n",
    "    print(\"Interpretation: Price is negatively correlated with age (older cars depreciate).\")\n",
    "if ('price','mileage') in [max_pos_pair, max_neg_pair] or ('mileage','price') in [max_pos_pair, max_neg_pair]:\n",
    "    print(\"Interpretation: Price is negatively correlated with mileage (higher usage lowers resale value).\")"
   ]
  }
 ],
 "metadata": {
  "kernelspec": {
   "display_name": "Python 3",
   "language": "python",
   "name": "python3"
  },
  "language_info": {
   "codemirror_mode": {
    "name": "ipython",
    "version": 3
   },
   "file_extension": ".py",
   "mimetype": "text/x-python",
   "name": "python",
   "nbconvert_exporter": "python",
   "pygments_lexer": "ipython3",
   "version": "3.12.10"
  }
 },
 "nbformat": 4,
 "nbformat_minor": 5
}
