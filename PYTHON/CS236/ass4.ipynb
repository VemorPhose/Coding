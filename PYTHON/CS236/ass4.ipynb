{
 "cells": [
  {
   "cell_type": "markdown",
   "metadata": {},
   "source": [
    "## **N^2 - 1 Puzzle Problem**\n",
    "Write a Python/ Java/ C/ C++ program to solve the (n^2 − 1)-puzzle problem using the following search algorithms:\n",
    "- Breadth-First Search (BFS)\n",
    "- Depth-First Search (DFS)\n",
    "- Iterative Deepening (ID)"
   ]
  },
  {
   "cell_type": "markdown",
   "metadata": {},
   "source": [
    "### 1. Breadth-First Search (BFS)"
   ]
  },
  {
   "cell_type": "code",
   "execution_count": 3,
   "metadata": {},
   "outputs": [
    {
     "name": "stdout",
     "output_type": "stream",
     "text": [
      "Start states:\n",
      "[27684153, 820436571, 402563718, 564281073, 573168204, 53421876, 874302516, 583026417, 246378150, 350164278]\n",
      "Goal states:\n",
      "[812546307, 180746352, 308125647, 237840561, 215637084, 865437102, 276108354, 305712864, 321684507, 354187206]\n",
      "\n",
      "Start: 027684153, Goal: 0812546307\n",
      "\n"
     ]
    }
   ],
   "source": [
    "import numpy as np\n",
    "from itertools import permutations\n",
    "import random\n",
    "\n",
    "n = 4\n",
    "\n",
    "def generate_puzzle_numbers(n=3):\n",
    "    numbers = []\n",
    "    digits = list(range(n*n))\n",
    "    \n",
    "    for _ in range(20):\n",
    "        current = digits.copy()\n",
    "        for i in range(len(current)-1, 0, -1):\n",
    "            j = np.random.randint(0, i+1)\n",
    "            current[i], current[j] = current[j], current[i]\n",
    "        \n",
    "        num = int(''.join(map(str, current)))\n",
    "        numbers.append(num)\n",
    "    \n",
    "    return numbers\n",
    "\n",
    "numbers = generate_puzzle_numbers()\n",
    "start_states = numbers[:10]\n",
    "goal_states = numbers[10:]\n",
    "print(\"Start states:\")\n",
    "print(start_states)\n",
    "print(\"Goal states:\")\n",
    "print(goal_states)\n",
    "print()\n",
    "\n",
    "for start, goal in zip(start_states, goal_states):\n",
    "    start = str(start)\n",
    "    goal = str(goal)\n",
    "    if len(start) < (n * n):\n",
    "        start = '0' + start\n",
    "    if len(goal) < (n * n):\n",
    "        goal = '0' + goal\n",
    "    print(f\"Start: {start}, Goal: {goal}\")\n",
    "    print()\n",
    "    \n",
    "    break\n",
    "    "
   ]
  }
 ],
 "metadata": {
  "kernelspec": {
   "display_name": "base",
   "language": "python",
   "name": "python3"
  },
  "language_info": {
   "codemirror_mode": {
    "name": "ipython",
    "version": 3
   },
   "file_extension": ".py",
   "mimetype": "text/x-python",
   "name": "python",
   "nbconvert_exporter": "python",
   "pygments_lexer": "ipython3",
   "version": "3.12.7"
  }
 },
 "nbformat": 4,
 "nbformat_minor": 2
}
