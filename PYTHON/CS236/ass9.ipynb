{
 "cells": [
  {
   "cell_type": "markdown",
   "metadata": {},
   "source": [
    "## Multivariate Linear Regression Problem using PSO"
   ]
  },
  {
   "cell_type": "code",
   "execution_count": null,
   "metadata": {},
   "outputs": [
    {
     "name": "stdout",
     "output_type": "stream",
     "text": [
      "Best Weights: [10.000, -0.092, 0.037, 0.032, 2.795, -10.000, 5.493, -0.011, -1.239, 0.401, -0.006, -0.580, 0.015, -0.457]\n",
      "Training MSE: 22.37\n",
      "Testing MSE: 27.08\n"
     ]
    }
   ],
   "source": [
    "import numpy as np\n",
    "from sklearn.datasets import fetch_openml\n",
    "from sklearn.model_selection import train_test_split\n",
    "\n",
    "def calculate_mse(weights, X_aug, y_true):\n",
    "    n_samples = X_aug.shape[0]\n",
    "    y_pred = X_aug @ weights\n",
    "    mse = np.mean((y_true - y_pred)**2)\n",
    "    return mse\n",
    "\n",
    "def solve():\n",
    "    # w, c1, c2, num_particles, num_iterations = map(float, input().split())\n",
    "    w, c1, c2, num_particles, num_iterations = 0.7, 1.5, 1.5, 50, 2000\n",
    "    num_particles = int(num_particles)\n",
    "    num_iterations = int(num_iterations)\n",
    "\n",
    "    boston = fetch_openml(name='boston', version=1, as_frame=False, parser='liac-arff')\n",
    "    X = boston.data\n",
    "    y = boston.target\n",
    "\n",
    "    X_train, X_test, y_train, y_test = train_test_split(X, y, test_size=0.2, random_state=42)\n",
    "\n",
    "    X_train_aug = np.hstack((np.ones((X_train.shape[0], 1)), X_train))\n",
    "    X_test_aug = np.hstack((np.ones((X_test.shape[0], 1)), X_test))\n",
    "\n",
    "    n_features = X.shape[1]\n",
    "    n_dimensions = n_features + 1  # 13 features + 1 intercept\n",
    "\n",
    "    positions = np.random.uniform(-10, 10, (num_particles, n_dimensions))\n",
    "    velocities = np.random.uniform(-1, 1, (num_particles, n_dimensions))\n",
    "\n",
    "    pbest_positions = positions.copy()\n",
    "    pbest_fitness = np.array([calculate_mse(p, X_train_aug, y_train) for p in positions])\n",
    "\n",
    "    gbest_index = np.argmin(pbest_fitness)\n",
    "    gbest_position = pbest_positions[gbest_index].copy()\n",
    "    gbest_fitness = pbest_fitness[gbest_index]\n",
    "\n",
    "    for _ in range(num_iterations):\n",
    "        for i in range(num_particles):\n",
    "            r1 = np.random.rand(n_dimensions)\n",
    "            r2 = np.random.rand(n_dimensions)\n",
    "            velocities[i] = (w * velocities[i] +\n",
    "                             c1 * r1 * (pbest_positions[i] - positions[i]) +\n",
    "                             c2 * r2 * (gbest_position - positions[i]))\n",
    "\n",
    "            positions[i] = positions[i] + velocities[i]\n",
    "            positions[i] = np.clip(positions[i], -10, 10)\n",
    "            current_fitness = calculate_mse(positions[i], X_train_aug, y_train)\n",
    "\n",
    "            if current_fitness < pbest_fitness[i]:\n",
    "                pbest_fitness[i] = current_fitness\n",
    "                pbest_positions[i] = positions[i].copy()\n",
    "\n",
    "                if current_fitness < gbest_fitness:\n",
    "                    gbest_fitness = current_fitness\n",
    "                    gbest_position = positions[i].copy()\n",
    "\n",
    "    best_weights = gbest_position\n",
    "    final_train_mse = calculate_mse(best_weights, X_train_aug, y_train)\n",
    "    final_test_mse = calculate_mse(best_weights, X_test_aug, y_test)\n",
    "\n",
    "    formatted_weights = [f\"{weight:.3f}\" for weight in best_weights]\n",
    "    print(f\"Best Weights: [{', '.join(formatted_weights)}]\")\n",
    "    print(f\"Training MSE: {final_train_mse:.2f}\")\n",
    "    print(f\"Testing MSE: {final_test_mse:.2f}\")\n",
    "\n",
    "if __name__ == \"__main__\":\n",
    "    solve()\n"
   ]
  }
 ],
 "metadata": {
  "kernelspec": {
   "display_name": "base",
   "language": "python",
   "name": "python3"
  },
  "language_info": {
   "codemirror_mode": {
    "name": "ipython",
    "version": 3
   },
   "file_extension": ".py",
   "mimetype": "text/x-python",
   "name": "python",
   "nbconvert_exporter": "python",
   "pygments_lexer": "ipython3",
   "version": "3.12.7"
  }
 },
 "nbformat": 4,
 "nbformat_minor": 2
}
