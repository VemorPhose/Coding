{
 "cells": [
  {
   "cell_type": "markdown",
   "metadata": {},
   "source": [
    "**Section - 1**"
   ]
  },
  {
   "cell_type": "code",
   "execution_count": 7,
   "metadata": {},
   "outputs": [
    {
     "name": "stdout",
     "output_type": "stream",
     "text": [
      "3.2\n",
      "<class 'float'>\n",
      "\n",
      "5.2\n",
      "1.2000000000000002\n",
      "6.4\n",
      "1.6\n",
      "\n",
      "Length of string is: 5\n",
      "\n",
      "45\n"
     ]
    }
   ],
   "source": [
    "# 1\n",
    "x = 3.20\n",
    "print(x)\n",
    "print(type(x))\n",
    "print()\n",
    "\n",
    "y = 2\n",
    "print(x + y)\n",
    "print(x - y)\n",
    "print(x * y)\n",
    "print(x / y)\n",
    "print()\n",
    "\n",
    "s = \"Hello\"\n",
    "print(\"Length of string is:\", len(s))\n",
    "print()\n",
    "\n",
    "n = \"45\"\n",
    "z = int(n)\n",
    "print(z)"
   ]
  },
  {
   "cell_type": "code",
   "execution_count": 9,
   "metadata": {},
   "outputs": [
    {
     "name": "stdout",
     "output_type": "stream",
     "text": [
      "\n"
     ]
    }
   ],
   "source": [
    "# 2\n",
    "s = input(\"Enter a sentence: \")\n",
    "\n",
    "s = s.upper()\n",
    "\n",
    "req = input(\"Enter a substring to replace: \")\n",
    "res = input(\"Enter a substring to replace with: \")\n",
    "s = s.replace(req.upper(), res.upper())\n",
    "\n",
    "print(s)"
   ]
  },
  {
   "cell_type": "code",
   "execution_count": 11,
   "metadata": {},
   "outputs": [
    {
     "name": "stdout",
     "output_type": "stream",
     "text": [
      "2 4 6 8 10 "
     ]
    }
   ],
   "source": [
    "# 3\n",
    "l1 = [1, 2, 3, 4, 5]\n",
    "l2 = [6, 7, 8, 9, 10]\n",
    "\n",
    "l1.extend(l2)\n",
    "\n",
    "for i in l1:\n",
    "    if i % 2 == 0:\n",
    "        print(i, end=\" \")"
   ]
  },
  {
   "cell_type": "code",
   "execution_count": 12,
   "metadata": {},
   "outputs": [
    {
     "name": "stdout",
     "output_type": "stream",
     "text": [
      "95\n",
      "John 95\n",
      "Tom 96\n",
      "Jane 90\n",
      "Mary 92\n",
      "Ram 99\n"
     ]
    }
   ],
   "source": [
    "# 4\n",
    "d1 = {\"John\": 95, \"Tom\": 80, \"Jane\": 90, \n",
    "      \"Mary\": 92, \"Alice\": 88}\n",
    "\n",
    "stu = input(\"Enter student name: \")\n",
    "if stu in d1:\n",
    "    print(d1[stu])\n",
    "else:\n",
    "    print(\"Student not found\")\n",
    "\n",
    "stu = input(\"Enter student name to add: \")\n",
    "if stu in d1:\n",
    "    print(\"Student already exists\")\n",
    "else:\n",
    "    grade = int(input(\"Enter student grade: \"))\n",
    "    d1[stu] = grade\n",
    "\n",
    "stu = input(\"Enter student name to update grade of: \")\n",
    "if stu in d1:\n",
    "    grade = int(input(\"Enter new grade: \"))\n",
    "    d1[stu] = grade\n",
    "else:\n",
    "    print(\"Student not found\")\n",
    "\n",
    "for k, v in d1.items():\n",
    "    if v > 90:\n",
    "        print(k, v)"
   ]
  },
  {
   "cell_type": "code",
   "execution_count": 13,
   "metadata": {},
   "outputs": [
    {
     "name": "stdout",
     "output_type": "stream",
     "text": [
      "Is a palindrone\n"
     ]
    }
   ],
   "source": [
    "# 5\n",
    "def is_palindrone(s):\n",
    "    return s == s[::-1]\n",
    "\n",
    "s = input(\"Enter a string: \")\n",
    "if is_palindrone(s):\n",
    "    print(\"Is a palindrone\")\n",
    "else:\n",
    "    print(\"Is not a palindrone\")"
   ]
  },
  {
   "cell_type": "markdown",
   "metadata": {},
   "source": [
    "**Section - 2**"
   ]
  },
  {
   "cell_type": "code",
   "execution_count": 15,
   "metadata": {},
   "outputs": [
    {
     "name": "stdout",
     "output_type": "stream",
     "text": [
      "Number of words: 6\n",
      "Number of characters: 38\n",
      "Number of lines: 3\n",
      "Largest word: World!\n"
     ]
    }
   ],
   "source": [
    "# 1\n",
    "f = open(\"example.txt\", \"r\")\n",
    "l = f.readlines()\n",
    "\n",
    "num_lines = len(l)\n",
    "num_words = 0\n",
    "num_chars = 0\n",
    "\n",
    "for line in l:\n",
    "    num_words += len(line.split())\n",
    "    num_chars += len(line)\n",
    "\n",
    "print(\"Number of words:\", num_words)\n",
    "print(\"Number of characters:\", num_chars)\n",
    "print(\"Number of lines:\", num_lines)\n",
    "\n",
    "largest_word = \"\"\n",
    "for line in l:\n",
    "    for word in line.split():\n",
    "        if len(word) > len(largest_word):\n",
    "            largest_word = word\n",
    "\n",
    "print(\"Largest word:\", largest_word)"
   ]
  },
  {
   "cell_type": "code",
   "execution_count": 18,
   "metadata": {},
   "outputs": [
    {
     "name": "stdout",
     "output_type": "stream",
     "text": [
      "h: 2\n",
      "l: 5\n",
      "w: 1\n",
      "r: 2\n",
      "d: 3\n",
      "s: 1\n",
      "c: 1\n",
      "n: 3\n",
      "t: 1\n"
     ]
    }
   ],
   "source": [
    "# 2\n",
    "f = open(\"example.txt\", \"r\")\n",
    "consonant_count = dict()\n",
    "l = f.readlines()\n",
    "for line in l:\n",
    "    for char in line:\n",
    "        if char.isalpha() and char.lower() not in \"aeiou\":\n",
    "            if char.lower() not in consonant_count:\n",
    "                consonant_count[char.lower()] = 1\n",
    "            else:\n",
    "                consonant_count[char.lower()] += 1\n",
    "\n",
    "for k, v in consonant_count.items():\n",
    "    print(k,\": \", v, sep=\"\")"
   ]
  },
  {
   "cell_type": "code",
   "execution_count": 58,
   "metadata": {},
   "outputs": [
    {
     "name": "stdout",
     "output_type": "stream",
     "text": [
      "(3, 4)\n",
      "[[40 48 40 39]\n",
      " [21 17 36 33]\n",
      " [25 35 13 20]]\n",
      "\n",
      "[[80 96 80 78]\n",
      " [42 34 72 66]\n",
      " [50 70 26 40]]\n",
      "\n",
      "Median: 68.0\n",
      "Variance: 444.9722222222222\n",
      "Standard Deviation: 21.09436470297748\n"
     ]
    }
   ],
   "source": [
    "# 3\n",
    "import numpy as np\n",
    "arr = np.random.randint(5, 51, (3, 4))\n",
    "print(arr.shape)\n",
    "print(arr)\n",
    "print()\n",
    "\n",
    "arr *= 2\n",
    "print(arr)\n",
    "print()\n",
    "\n",
    "median = np.median(arr)\n",
    "variance = np.var(arr)\n",
    "std_dev = np.std(arr)\n",
    "print(\"Median:\", median)\n",
    "print(\"Variance:\", variance)\n",
    "print(\"Standard Deviation:\", std_dev)"
   ]
  },
  {
   "cell_type": "markdown",
   "metadata": {},
   "source": [
    "**Section - 3**"
   ]
  },
  {
   "cell_type": "code",
   "execution_count": 64,
   "metadata": {},
   "outputs": [
    {
     "name": "stdout",
     "output_type": "stream",
     "text": [
      "Employee Data Sorted by Total Earnings:\n",
      "  Employee  Hourly_Wage  Hours_Worked  TotalEarnings\n",
      "4     Mike           35            42           1470\n",
      "3    Sarah           28            38           1064\n",
      "1    Alice           30            35           1050\n",
      "0     John           25            40           1000\n",
      "2      Bob           22            45            990\n"
     ]
    }
   ],
   "source": [
    "# 1\n",
    "import pandas as pd\n",
    "\n",
    "data = {\n",
    "    'Employee': ['John', 'Alice', 'Bob', 'Sarah', 'Mike'],\n",
    "    'Hourly_Wage': [25, 30, 22, 28, 35],\n",
    "    'Hours_Worked': [40, 35, 45, 38, 42]\n",
    "}\n",
    "\n",
    "df = pd.DataFrame(data)\n",
    "\n",
    "df['TotalEarnings'] = df['Hourly_Wage'] * df['Hours_Worked']\n",
    "df.sort_values(by='TotalEarnings', axis=0, inplace=True, ascending=False)\n",
    "\n",
    "print(\"Employee Data Sorted by Total Earnings:\")\n",
    "print(df)"
   ]
  },
  {
   "cell_type": "code",
   "execution_count": 69,
   "metadata": {},
   "outputs": [
    {
     "name": "stdout",
     "output_type": "stream",
     "text": [
      "Matrix:\n",
      " [[ 33 -26 -24]\n",
      " [-22 -46  11]\n",
      " [ -5 -10 -46]]\n",
      "Determinant:\n",
      " 101439.99999999994\n",
      "Transpose:\n",
      " [[ 33 -22  -5]\n",
      " [-26 -46 -10]\n",
      " [-24  11 -46]]\n"
     ]
    }
   ],
   "source": [
    "# 2\n",
    "import numpy as np\n",
    "\n",
    "n = int(input(\"Enter square matrix size: \"))\n",
    "arr = np.random.randint(-50, 51, (n, n))\n",
    "\n",
    "det = np.linalg.det(arr)\n",
    "trans = arr.T\n",
    "\n",
    "print(\"Matrix:\\n\", arr)\n",
    "print(\"Determinant:\\n\", det)\n",
    "print(\"Transpose:\\n\", trans)"
   ]
  },
  {
   "cell_type": "code",
   "execution_count": 80,
   "metadata": {},
   "outputs": [
    {
     "data": {
      "image/png": "[encoded data removed]",
      "text/plain": [
       "<Figure size 1000x600 with 1 Axes>"
      ]
     },
     "metadata": {},
     "output_type": "display_data"
    }
   ],
   "source": [
    "# 3\n",
    "import matplotlib.pyplot as plt\n",
    "import pandas as pd\n",
    "\n",
    "data = {\n",
    "    'Employee': ['John', 'Alice', 'Bob', 'Sarah', 'Mike', 'Tom', 'Jane'],\n",
    "    'Department': ['IT', 'HR', 'Sales', 'Marketing', 'IT', 'Sales', 'HR'],\n",
    "    'Salary': [75000, 65000, 55000, 60000, 80000, 58000, 62000]\n",
    "}\n",
    "\n",
    "df = pd.DataFrame(data)\n",
    "\n",
    "dept_salary = df.groupby('Department')['Salary'].sum()\n",
    "\n",
    "plt.figure(figsize=(10, 6))\n",
    "dept_salary.plot(kind='bar')\n",
    "plt.title('Salary Expenditure by Department', fontsize=20)\n",
    "plt.xlabel('Department', fontsize=16)\n",
    "plt.ylabel('Total Salary', fontsize=16)\n",
    "\n",
    "plt.grid(True, alpha=0.3)\n",
    "plt.xticks(rotation=0)\n",
    "\n",
    "plt.tight_layout()\n",
    "plt.show()"
   ]
  }
 ],
 "metadata": {
  "kernelspec": {
   "display_name": "base",
   "language": "python",
   "name": "python3"
  },
  "language_info": {
   "codemirror_mode": {
    "name": "ipython",
    "version": 3
   },
   "file_extension": ".py",
   "mimetype": "text/x-python",
   "name": "python",
   "nbconvert_exporter": "python",
   "pygments_lexer": "ipython3",
   "version": "3.12.7"
  }
 },
 "nbformat": 4,
 "nbformat_minor": 2
}
