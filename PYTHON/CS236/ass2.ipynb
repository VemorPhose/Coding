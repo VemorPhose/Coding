{
 "cells": [
  {
   "cell_type": "markdown",
   "metadata": {},
   "source": [
    "1. File Create/Read"
   ]
  },
  {
   "cell_type": "code",
   "execution_count": 4,
   "metadata": {},
   "outputs": [
    {
     "name": "stdout",
     "output_type": "stream",
     "text": [
      "Hello World!\n",
      "Second Line!\n"
     ]
    }
   ],
   "source": [
    "f = open(\"example.txt\", \"r\")\n",
    "content = f.readlines()\n",
    "\n",
    "for line in content:\n",
    "    print(line.strip())\n",
    "\n",
    "f.close()"
   ]
  },
  {
   "cell_type": "markdown",
   "metadata": {},
   "source": [
    "2. File Read No. of Characters"
   ]
  },
  {
   "cell_type": "code",
   "execution_count": 5,
   "metadata": {},
   "outputs": [
    {
     "name": "stdout",
     "output_type": "stream",
     "text": [
      "Hello\n"
     ]
    }
   ],
   "source": [
    "f = open(\"example.txt\", \"r\")\n",
    "\n",
    "num_chars = int(input(\"Enter number of characters to read\"))\n",
    "content = f.read(num_chars)\n",
    "\n",
    "print(content)\n",
    "\n",
    "f.close()"
   ]
  },
  {
   "cell_type": "markdown",
   "metadata": {},
   "source": [
    "3. File Append"
   ]
  },
  {
   "cell_type": "code",
   "execution_count": 8,
   "metadata": {},
   "outputs": [],
   "source": [
    "f = open(\"example.txt\", \"a\")\n",
    "\n",
    "text = input(\"Enter text to append: \")\n",
    "\n",
    "f.write(text + \"\\n\")\n",
    "\n",
    "f.close()"
   ]
  },
  {
   "cell_type": "code",
   "execution_count": null,
   "metadata": {},
   "outputs": [
    {
     "name": "stdout",
     "output_type": "stream",
     "text": [
      "Hello World!\n",
      "Second Line!\n",
      "Third Line!\n"
     ]
    }
   ],
   "source": [
    "# to test\n",
    "f = open(\"example.txt\", \"r\")\n",
    "content = f.readlines()\n",
    "\n",
    "for line in content:\n",
    "    print(line.strip())\n",
    "\n",
    "f.close()"
   ]
  },
  {
   "cell_type": "markdown",
   "metadata": {},
   "source": [
    "4. count_lines_not_starting_with_T"
   ]
  },
  {
   "cell_type": "code",
   "execution_count": 11,
   "metadata": {},
   "outputs": [
    {
     "name": "stdout",
     "output_type": "stream",
     "text": [
      "2\n"
     ]
    }
   ],
   "source": [
    "f = open(\"example.txt\", \"r\")\n",
    "content = f.readlines()\n",
    "\n",
    "def count_line_not_starting_with_T(content):\n",
    "    count = 0\n",
    "    for line in content:\n",
    "        if not line.startswith(\"T\"):\n",
    "            count += 1\n",
    "    return count\n",
    "\n",
    "print(count_line_not_starting_with_T(content))\n",
    "\n",
    "f.close()"
   ]
  },
  {
   "cell_type": "markdown",
   "metadata": {},
   "source": [
    "5. Copy File"
   ]
  },
  {
   "cell_type": "code",
   "execution_count": 12,
   "metadata": {},
   "outputs": [],
   "source": [
    "f = open(\"example.txt\", \"r\")\n",
    "content = f.readlines()\n",
    "\n",
    "with open(\"example_copy.txt\", \"w\") as f_copy:\n",
    "    f_copy.writelines(content)\n",
    "\n",
    "f.close()"
   ]
  },
  {
   "cell_type": "markdown",
   "metadata": {},
   "source": [
    "6. NumPy N x M Matrix "
   ]
  },
  {
   "cell_type": "code",
   "execution_count": 39,
   "metadata": {},
   "outputs": [
    {
     "name": "stdout",
     "output_type": "stream",
     "text": [
      "[[33. 92. 98. 82.]\n",
      " [83. 58. 92. 43.]\n",
      " [ 4.  1. 24. 64.]\n",
      " [48. 71. 87. 85.]]\n"
     ]
    }
   ],
   "source": [
    "# i\n",
    "import numpy as np\n",
    "import random\n",
    "\n",
    "n = 4\n",
    "m = 4\n",
    "matrix = np.zeros((n, m))\n",
    "\n",
    "for i in range(n):\n",
    "    for j in range(m):\n",
    "        matrix[i, j] = random.randrange(1, 100)\n",
    "\n",
    "print(matrix)"
   ]
  },
  {
   "cell_type": "code",
   "execution_count": 40,
   "metadata": {},
   "outputs": [
    {
     "name": "stdout",
     "output_type": "stream",
     "text": [
      "[[33. 83.  4. 48.]\n",
      " [92. 58.  1. 71.]\n",
      " [98. 92. 24. 87.]\n",
      " [82. 43. 64. 85.]]\n"
     ]
    }
   ],
   "source": [
    "# ii\n",
    "transpose_matrix = matrix.T\n",
    "print(transpose_matrix)"
   ]
  },
  {
   "cell_type": "code",
   "execution_count": 41,
   "metadata": {},
   "outputs": [
    {
     "name": "stdout",
     "output_type": "stream",
     "text": [
      "[33. 92. 98. 82. 83. 58. 92. 43.  4.  1. 24. 64. 48. 71. 87. 85.]\n"
     ]
    }
   ],
   "source": [
    "# iii\n",
    "flattened_matrix = matrix.flatten()\n",
    "print(flattened_matrix)"
   ]
  },
  {
   "cell_type": "markdown",
   "metadata": {},
   "source": [
    "7. NumPy Array Methods"
   ]
  },
  {
   "cell_type": "code",
   "execution_count": 45,
   "metadata": {},
   "outputs": [
    {
     "name": "stdout",
     "output_type": "stream",
     "text": [
      "2\n",
      "(2, 4)\n",
      "8\n"
     ]
    }
   ],
   "source": [
    "import numpy as np\n",
    "arr = np.array([[10, 16, 71, 9], [71, 91, 31, 51]])\n",
    "\n",
    "# i\n",
    "print(arr.ndim)\n",
    "\n",
    "# ii\n",
    "print(arr.shape)\n",
    "\n",
    "# iii\n",
    "print(arr.size)\n"
   ]
  },
  {
   "cell_type": "markdown",
   "metadata": {},
   "source": [
    "8. NumPy Array Methods 2"
   ]
  },
  {
   "cell_type": "code",
   "execution_count": 1,
   "metadata": {},
   "outputs": [],
   "source": [
    "import numpy as np\n",
    "n = 4\n",
    "m = 4\n",
    "matrix1 = np.random.randint(100, size=(n, m))\n",
    "matrix2 = np.random.randint(100, size=(n, m))"
   ]
  },
  {
   "cell_type": "code",
   "execution_count": 3,
   "metadata": {},
   "outputs": [
    {
     "name": "stdout",
     "output_type": "stream",
     "text": [
      "[[52 43 46 62 73 89 97  2]\n",
      " [92 97 32 67 69 71 48 13]\n",
      " [64 24 55 33 98 83 82 73]\n",
      " [53 17 21 89 83 40 70 52]]\n"
     ]
    }
   ],
   "source": [
    "# i\n",
    "matrix_concat = np.concatenate((matrix1, matrix2), axis=1)\n",
    "print(matrix_concat)"
   ]
  },
  {
   "cell_type": "code",
   "execution_count": 5,
   "metadata": {},
   "outputs": [
    {
     "name": "stdout",
     "output_type": "stream",
     "text": [
      "[[43 46 52 62]\n",
      " [32 67 92 97]\n",
      " [24 33 55 64]\n",
      " [17 21 53 89]]\n",
      "[[ 2 73 89 97]\n",
      " [13 48 69 71]\n",
      " [73 82 83 98]\n",
      " [40 52 70 83]]\n"
     ]
    }
   ],
   "source": [
    "# ii\n",
    "print(np.sort(matrix1))\n",
    "print(np.sort(matrix2))"
   ]
  },
  {
   "cell_type": "code",
   "execution_count": 65,
   "metadata": {},
   "outputs": [
    {
     "name": "stdout",
     "output_type": "stream",
     "text": [
      "[[ 67 162  54 163]\n",
      " [138 138 109 114]\n",
      " [ 75 103  57 149]\n",
      " [171 153 186 147]]\n"
     ]
    }
   ],
   "source": [
    "# iii\n",
    "matrix_sum = matrix1 + matrix2\n",
    "print(matrix_sum)"
   ]
  },
  {
   "cell_type": "code",
   "execution_count": 72,
   "metadata": {},
   "outputs": [
    {
     "name": "stdout",
     "output_type": "stream",
     "text": [
      "[[ 29   8   8 -17]\n",
      " [-58 -24  -1  16]\n",
      " [ 65 -53 -25  -9]\n",
      " [ 17 -37 -12  35]]\n"
     ]
    }
   ],
   "source": [
    "# iv\n",
    "matrix_diff = matrix1 - matrix2\n",
    "print(matrix_diff)"
   ]
  },
  {
   "cell_type": "code",
   "execution_count": 70,
   "metadata": {},
   "outputs": [
    {
     "name": "stdout",
     "output_type": "stream",
     "text": [
      "[[ 912 6545  713 6570]\n",
      " [3920 4617 2970 3185]\n",
      " [ 350 1950  656 5530]\n",
      " [7238 5510 8613 5096]]\n"
     ]
    }
   ],
   "source": [
    "# v\n",
    "matrix_mult = np.multiply(matrix1, matrix2)\n",
    "print(matrix_mult)"
   ]
  },
  {
   "cell_type": "code",
   "execution_count": 74,
   "metadata": {},
   "outputs": [
    {
     "name": "stdout",
     "output_type": "stream",
     "text": [
      "[[ 2.52631579  1.1038961   1.34782609  0.81111111]\n",
      " [ 0.40816327  0.7037037   0.98181818  1.32653061]\n",
      " [14.          0.32051282  0.3902439   0.88607595]\n",
      " [ 1.22077922  0.61052632  0.87878788  1.625     ]]\n"
     ]
    }
   ],
   "source": [
    "# vi\n",
    "for i in range(0, n):\n",
    "    for j in range(0, m):\n",
    "        if matrix2[i, j] == 0:\n",
    "            matrix2[i, j] = 1\n",
    "matrix_div = np.divide(matrix1, matrix2)\n",
    "print(matrix_div)"
   ]
  },
  {
   "cell_type": "markdown",
   "metadata": {},
   "source": [
    "9. Numpy Min/Max of Columns"
   ]
  },
  {
   "cell_type": "code",
   "execution_count": 91,
   "metadata": {},
   "outputs": [
    {
     "name": "stdout",
     "output_type": "stream",
     "text": [
      "[[82  4 15 81 12 44 21]\n",
      " [12  4 41  4 81 39 33]\n",
      " [92 75 90 80 16 19 93]\n",
      " [27 86 97 11 94 55 14]\n",
      " [44 87 29 41 78 14  7]\n",
      " [ 1 33  8 82 11 10 30]\n",
      " [76 10 93 71 82 88 23]\n",
      " [34  0 65 42 51 71 13]]\n",
      "[ 1  0  8  4 11 10  7]\n",
      "[92 87 97 82 94 88 93]\n"
     ]
    }
   ],
   "source": [
    "import numpy as np\n",
    "n = 8\n",
    "m = 7\n",
    "matrix = np.random.randint(100, size=(n, m))\n",
    "print(matrix)\n",
    "\n",
    "min_cols = np.min(matrix, axis=0)\n",
    "print(min_cols)\n",
    "max_cols = np.max(matrix, axis=0)\n",
    "print(max_cols)"
   ]
  },
  {
   "cell_type": "markdown",
   "metadata": {},
   "source": [
    "10. Numpy + File IO"
   ]
  },
  {
   "cell_type": "code",
   "execution_count": 105,
   "metadata": {},
   "outputs": [
    {
     "name": "stdout",
     "output_type": "stream",
     "text": [
      "[[ 5  8  2  3 13]\n",
      " [ 5 14 13 17 18]\n",
      " [19  8  3  8 16]\n",
      " [ 3  1  4  5 18]]\n"
     ]
    }
   ],
   "source": [
    "# i\n",
    "import numpy as np\n",
    "n = 4\n",
    "m = 5\n",
    "matrix = 1 + np.random.randint(20, size=(n, m))\n",
    "print(matrix)"
   ]
  },
  {
   "cell_type": "code",
   "execution_count": 107,
   "metadata": {},
   "outputs": [
    {
     "name": "stdout",
     "output_type": "stream",
     "text": [
      "[0. 0. 0. 0. 0. 0. 0. 0. 0. 0.]\n",
      "[1. 1. 1. 1. 1. 1. 1. 1. 1. 1.]\n",
      "[5. 5. 5. 5. 5. 5. 5. 5. 5. 5.]\n"
     ]
    }
   ],
   "source": [
    "# ii\n",
    "matrix_zeros = np.zeros(10)\n",
    "print(matrix_zeros)\n",
    "\n",
    "matrix_ones = np.ones(10)\n",
    "print(matrix_ones)\n",
    "\n",
    "matrix_fives = 5 + np.zeros(10)\n",
    "print(matrix_fives)"
   ]
  },
  {
   "cell_type": "code",
   "execution_count": 109,
   "metadata": {},
   "outputs": [
    {
     "name": "stdout",
     "output_type": "stream",
     "text": [
      "[10 12 14 16 18 20 22 24 26 28 30 32 34 36 38 40 42 44 46 48 50]\n"
     ]
    }
   ],
   "source": [
    "# iii\n",
    "matrix_even = np.arange(10, 51, 2)\n",
    "print(matrix_even)"
   ]
  },
  {
   "cell_type": "code",
   "execution_count": 111,
   "metadata": {},
   "outputs": [
    {
     "name": "stdout",
     "output_type": "stream",
     "text": [
      "0.7410393925427059\n"
     ]
    }
   ],
   "source": [
    "# iv\n",
    "n = np.random.random(1)[0]\n",
    "print(n)"
   ]
  },
  {
   "cell_type": "code",
   "execution_count": 113,
   "metadata": {},
   "outputs": [
    {
     "name": "stdout",
     "output_type": "stream",
     "text": [
      "[[ 5.  8.  2.  3. 13.]\n",
      " [ 5. 14. 13. 17. 18.]\n",
      " [19.  8.  3.  8. 16.]\n",
      " [ 3.  1.  4.  5. 18.]]\n"
     ]
    }
   ],
   "source": [
    "# v\n",
    "np.savetxt(\"matrix.txt\", matrix, fmt='%d')\n",
    "\n",
    "loaded_matrix = np.loadtxt(\"matrix.txt\")\n",
    "print(loaded_matrix)"
   ]
  }
 ],
 "metadata": {
  "kernelspec": {
   "display_name": "base",
   "language": "python",
   "name": "python3"
  },
  "language_info": {
   "codemirror_mode": {
    "name": "ipython",
    "version": 3
   },
   "file_extension": ".py",
   "mimetype": "text/x-python",
   "name": "python",
   "nbconvert_exporter": "python",
   "pygments_lexer": "ipython3",
   "version": "3.12.7"
  }
 },
 "nbformat": 4,
 "nbformat_minor": 2
}
