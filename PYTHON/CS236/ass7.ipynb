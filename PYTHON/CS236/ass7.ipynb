{
 "cells": [
  {
   "cell_type": "markdown",
   "metadata": {},
   "source": [
    "# Traveling Salesman Problem (TSP) using Hill Climbing and Simulated Annealing\n",
    "\n",
    "## Problem Description\n",
    "\n",
    "Write a program to solve TSP using two optimization algorithms:\n",
    "1. Hill Climbing\n",
    "2. Simulated Annealing\n",
    "\n",
    "## Requirements\n",
    "\n",
    "### Input\n",
    "- Number of cities `n` (2 ≤ n ≤ 10)\n",
    "- n × n symmetric cost matrix with zero diagonal\n",
    "- `cost[i][j]` denotes travel cost from city i to j\n",
    "\n",
    "### Output\n",
    "For each algorithm:\n",
    "- Route (sequence of cities starting/ending at city 0)\n",
    "- Total cost\n",
    "\n",
    "## Algorithm Specifications\n",
    "\n",
    "### 1. Hill Climbing\n",
    "1. Initialize with random tour\n",
    "2. Iteratively:\n",
    "   - Generate neighbors by swapping cities\n",
    "   - Move to lowest cost neighbor if improving\n",
    "   - Stop when no better neighbor exists\n",
    "3. Output final tour and cost\n",
    "\n",
    "### 2. Simulated Annealing\n",
    "1. Initialize with random tour\n",
    "2. Parameters:\n",
    "   - Initial temperature T = 1000\n",
    "   - Cooling rate α = 0.995\n",
    "3. For K = 100 × n² iterations:\n",
    "   - Randomly swap two cities\n",
    "   - Compute cost difference δ\n",
    "   - Accept if δ < 0 or with probability e^(-δ/T)\n",
    "   - Update T = T × α\n",
    "4. Track best tour\n",
    "5. Parameter Exploration:\n",
    "   Test three combinations:\n",
    "   ```\n",
    "   T = 500,  α = 0.99,  K = 50 × n²\n",
    "   T = 1000, α = 0.995, K = 100 × n²\n",
    "   T = 2000, α = 0.9,   K = 200 × n²\n",
    "   ```\n",
    "\n",
    "## Input Format\n"
   ]
  },
  {
   "cell_type": "code",
   "execution_count": null,
   "metadata": {},
   "outputs": [],
   "source": [
    "n\n",
    "cost_matrix[0][0] cost_matrix[0][1] ... cost_matrix[0][n-1]\n",
    "cost_matrix[1][0] cost_matrix[1][1] ... cost_matrix[1][n-1]\n",
    "...\n",
    "cost_matrix[n-1][0] cost_matrix[n-1][1] ... cost_matrix[n-1][n-1]"
   ]
  },
  {
   "cell_type": "markdown",
   "metadata": {},
   "source": [
    "\n",
    "\n",
    "## Output Format\n"
   ]
  },
  {
   "cell_type": "code",
   "execution_count": null,
   "metadata": {},
   "outputs": [],
   "source": [
    "Hill Climbing Solution:\n",
    "Route: [city sequence]\n",
    "Cost: [total cost]\n",
    "\n",
    "Simulated Annealing Solution:\n",
    "Route: [city sequence]\n",
    "Cost: [total cost]"
   ]
  },
  {
   "cell_type": "markdown",
   "metadata": {},
   "source": [
    "\n",
    "\n",
    "## Sample Input\n"
   ]
  },
  {
   "cell_type": "code",
   "execution_count": null,
   "metadata": {},
   "outputs": [],
   "source": [
    "4\n",
    "0 10 15 20\n",
    "10 0 35 25\n",
    "15 35 0 30\n",
    "20 25 30 0"
   ]
  },
  {
   "cell_type": "markdown",
   "metadata": {},
   "source": [
    "\n",
    "\n",
    "## Sample Output\n"
   ]
  },
  {
   "cell_type": "code",
   "execution_count": null,
   "metadata": {},
   "outputs": [],
   "source": [
    "Hill Climbing Solution:\n",
    "Route: 0 -> 1 -> 3 -> 2 -> 0\n",
    "Cost: 80\n",
    "\n",
    "Simulated Annealing Solution:\n",
    "Route: 0 -> 2 -> 3 -> 1 -> 0\n",
    "Cost: 80"
   ]
  },
  {
   "cell_type": "markdown",
   "metadata": {},
   "source": [
    "### 1. Hill Climbing"
   ]
  },
  {
   "cell_type": "code",
   "execution_count": 105,
   "metadata": {},
   "outputs": [
    {
     "name": "stdout",
     "output_type": "stream",
     "text": [
      "Cost matrix:\n",
      "[0, 10, 15, 20]\n",
      "[10, 0, 35, 25]\n",
      "[15, 35, 0, 30]\n",
      "[20, 25, 30, 0]\n",
      "\n",
      "Hill Climbing Solution:\n",
      "Route: [2, 0, 1, 3]\n",
      "Cost: 80\n"
     ]
    }
   ],
   "source": [
    "import random\n",
    "\n",
    "def calculate_cost(tour, cost_matrix):\n",
    "    cost = 0\n",
    "    for i in range(len(tour) - 1):\n",
    "        cost += cost_matrix[tour[i]][tour[i + 1]]\n",
    "    cost += cost_matrix[tour[-1]][tour[0]]\n",
    "    return cost\n",
    "\n",
    "def generate_random_tour(n):\n",
    "    tour = list(range(n))\n",
    "    random.shuffle(tour)\n",
    "    return tour\n",
    "\n",
    "def get_neighbours(tour):\n",
    "    neighbours = []\n",
    "    for i in range(len(tour) - 1):\n",
    "        for j in range(i + 1, len(tour)):\n",
    "            neighbour = tour[:]\n",
    "            neighbour[i], neighbour[j] = neighbour[j], neighbour[i]\n",
    "            neighbours.append(neighbour)\n",
    "    return neighbours\n",
    "\n",
    "def hill_climbing(cost_matrix, max_iter=1000):\n",
    "    n = len(cost_matrix)\n",
    "    current_tour = generate_random_tour(n)\n",
    "    current_cost = calculate_cost(current_tour, cost_matrix)\n",
    "    cost_list = [current_cost]\n",
    "    \n",
    "    improved = True\n",
    "    iter = 0\n",
    "    while improved and iter < max_iter:\n",
    "        iter += 1\n",
    "        improved = False\n",
    "        neighbours = get_neighbours(current_tour)\n",
    "        for neighbour in neighbours:\n",
    "            neighbour_cost = calculate_cost(neighbour, cost_matrix)\n",
    "            if neighbour_cost < current_cost:\n",
    "                current_tour = neighbour\n",
    "                current_cost = neighbour_cost\n",
    "                cost_list.append(current_cost)\n",
    "                improved = True\n",
    "    return current_tour, current_cost, cost_list, iter\n",
    "\n",
    "def main():\n",
    "    # n = int(input(\"Enter the number of cities: \"))\n",
    "    # print(f\"Enter the {n}x{n} cost matrix: \")\n",
    "    # cost_matrix = []\n",
    "\n",
    "    # for _ in range(n):\n",
    "    #     row = list(map(int, input().split()))\n",
    "    #     cost_matrix.append(row)\n",
    "    \n",
    "    n = 4\n",
    "    cost_matrix =  [[0, 10, 15, 20],\n",
    "                    [10, 0, 35, 25],\n",
    "                    [15, 35, 0, 30],\n",
    "                    [20, 25, 30, 0]]\n",
    "    print(\"Cost matrix:\")\n",
    "    for row in cost_matrix:\n",
    "        print(row)\n",
    "    \n",
    "    tour, cost, cost_list, num_iter = hill_climbing(cost_matrix)\n",
    "    print(\"\\nHill Climbing Solution:\")\n",
    "    print(\"Route:\", tour)\n",
    "    print(\"Cost:\", cost)\n",
    "    # print(\"Cost list:\", cost_list)\n",
    "    # print(\"Number of iterations:\", num_iter)\n",
    "\n",
    "if __name__ == \"__main__\":\n",
    "    main()"
   ]
  },
  {
   "cell_type": "markdown",
   "metadata": {},
   "source": [
    "### 2. Simulated Annealing"
   ]
  },
  {
   "cell_type": "code",
   "execution_count": null,
   "metadata": {},
   "outputs": [],
   "source": [
    "import random\n",
    "\n",
    "def calculate_cost(tour, cost_matrix):\n",
    "    cost = 0\n",
    "    for i in range(len(tour) - 1):\n",
    "        cost += cost_matrix[tour[i]][tour[i + 1]]\n",
    "    cost += cost_matrix[tour[-1]][tour[0]]\n",
    "    return cost\n",
    "\n",
    "def generate_random_tour(n):\n",
    "    tour = list(range(n))\n",
    "    random.shuffle(tour)\n",
    "    return tour\n",
    "\n",
    "def get_neighbours(tour):\n",
    "    neighbours = []\n",
    "    for i in range(len(tour) - 1):\n",
    "        for j in range(i + 1, len(tour)):\n",
    "            neighbour = tour[:]\n",
    "            neighbour[i], neighbour[j] = neighbour[j], neighbour[i]\n",
    "            neighbours.append(neighbour)\n",
    "    return neighbours\n",
    "\n",
    "def main():\n",
    "    # n = int(input(\"Enter the number of cities: \"))\n",
    "    # print(f\"Enter the {n}x{n} cost matrix: \")\n",
    "    # cost_matrix = []\n",
    "\n",
    "    # for _ in range(n):\n",
    "    #     row = list(map(int, input().split()))\n",
    "    #     cost_matrix.append(row)\n",
    "    \n",
    "    n = 4\n",
    "    cost_matrix =  [[0, 10, 15, 20],\n",
    "                    [10, 0, 35, 25],\n",
    "                    [15, 35, 0, 30],\n",
    "                    [20, 25, 30, 0]]\n",
    "    print(\"Cost matrix:\")\n",
    "    for row in cost_matrix:\n",
    "        print(row)\n",
    "    \n",
    "    tour, cost, cost_list, num_iter = hill_climbing(cost_matrix)\n",
    "    print(\"\\Simulated Annealing Solution:\")\n",
    "    print(\"Route:\", tour)\n",
    "    print(\"Cost:\", cost)\n",
    "    # print(\"Cost list:\", cost_list)\n",
    "    # print(\"Number of iterations:\", num_iter)\n",
    "\n",
    "if __name__ == \"__main__\":\n",
    "    main()"
   ]
  }
 ],
 "metadata": {
  "kernelspec": {
   "display_name": "base",
   "language": "python",
   "name": "python3"
  },
  "language_info": {
   "codemirror_mode": {
    "name": "ipython",
    "version": 3
   },
   "file_extension": ".py",
   "mimetype": "text/x-python",
   "name": "python",
   "nbconvert_exporter": "python",
   "pygments_lexer": "ipython3",
   "version": "3.12.7"
  }
 },
 "nbformat": 4,
 "nbformat_minor": 2
}
