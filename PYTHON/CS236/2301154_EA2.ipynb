{
 "cells": [
  {
   "cell_type": "markdown",
   "metadata": {},
   "source": [
    "# Problem Statement\n",
    "\n",
    "### Write a Python/Java/C/C++ program to solve the following problem using BFS. You have a 3x1 sliding tile puzzle. The tiles are numbered 1 and 2, with one empty space (represented by 0). The initial state is [2, 1, 0]. The goal state is [1, 2, 0]. You can move a tile into the empty space if it is adjacent to the empty space. Find the shortest sequence of moves to reach the goal state."
   ]
  },
  {
   "cell_type": "code",
   "execution_count": 4,
   "metadata": {},
   "outputs": [
    {
     "name": "stdout",
     "output_type": "stream",
     "text": [
      "Initial state:  [0, 1, 2]\n",
      "Goal state:  [1, 2, 0]\n",
      "Solution found!\n",
      "[0, 1, 2]\n",
      "[1, 0, 2]\n",
      "[1, 2, 0]\n"
     ]
    }
   ],
   "source": [
    "def swap(state: list, i: int, j: int):\n",
    "    new_state = state.copy()\n",
    "    new_state[i], new_state[j] = new_state[j], new_state[i]\n",
    "    return new_state\n",
    "\n",
    "def get_successors(state: list):\n",
    "    successors = []\n",
    "    for i in range(len(state)):\n",
    "        if (state[i] == 0):\n",
    "            if (i == 0):\n",
    "                successors.append(swap(state, i, i + 1))\n",
    "            elif (i == 1):\n",
    "                successors.append(swap(state, i, i + 1))\n",
    "                successors.append(swap(state, i, i - 1))\n",
    "            elif (i == 2):\n",
    "                successors.append(swap(state, i, i - 1))\n",
    "    return successors\n",
    "\n",
    "def is_goal(state: list, goal: list):\n",
    "    return state == goal\n",
    "\n",
    "def retrace_path(path: list, goal: list):\n",
    "    cur_state = goal\n",
    "    retraced_path = []\n",
    "    while (cur_state != None):\n",
    "        retraced_path.append(cur_state)\n",
    "        for i in range(len(path)):\n",
    "            if (path[i][1] == cur_state):\n",
    "                cur_state = path[i][0]\n",
    "                break\n",
    "    retraced_path.reverse()\n",
    "    return retraced_path\n",
    "\n",
    "def bfs(init_state: list, goal_state: list):\n",
    "    frontier = [init_state]\n",
    "    explored = []\n",
    "    path = []\n",
    "    parent = None\n",
    "    while (len(frontier) > 0):\n",
    "        cur_state = frontier.pop(0)\n",
    "        explored.append(cur_state)\n",
    "        path.append([parent, cur_state])\n",
    "        parent = cur_state\n",
    "        if (is_goal(cur_state, goal_state)):\n",
    "            return retrace_path(path, goal_state)\n",
    "        successors = get_successors(cur_state)\n",
    "        for s in successors:\n",
    "            if (s not in explored) and (s not in frontier):\n",
    "                frontier.append(s)\n",
    "    return None\n",
    "\n",
    "def main():\n",
    "    init_state = [2, 1, 0]\n",
    "    init_state = list(map(int, input(\"Enter initial state (space separated): \").split()))\n",
    "    if (len(init_state) != 3):\n",
    "        print(\"Invalid input.\")\n",
    "        return\n",
    "    goal_state = [1, 2, 0]\n",
    "    print(\"Initial state: \", init_state)\n",
    "    print(\"Goal state: \", goal_state)\n",
    "    path = bfs(init_state, goal_state)\n",
    "    if (path == None):\n",
    "        print(\"No solution found.\")\n",
    "    else:\n",
    "        print(\"Solution found!\")\n",
    "        for state in path:\n",
    "            print(state)\n",
    "\n",
    "if __name__ == \"__main__\":\n",
    "    main()"
   ]
  }
 ],
 "metadata": {
  "kernelspec": {
   "display_name": "base",
   "language": "python",
   "name": "python3"
  },
  "language_info": {
   "codemirror_mode": {
    "name": "ipython",
    "version": 3
   },
   "file_extension": ".py",
   "mimetype": "text/x-python",
   "name": "python",
   "nbconvert_exporter": "python",
   "pygments_lexer": "ipython3",
   "version": "3.12.7"
  }
 },
 "nbformat": 4,
 "nbformat_minor": 2
}
