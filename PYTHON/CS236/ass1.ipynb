{
 "cells": [
  {
   "cell_type": "markdown",
   "metadata": {},
   "source": [
    "1. Basics"
   ]
  },
  {
   "cell_type": "code",
   "execution_count": null,
   "metadata": {},
   "outputs": [],
   "source": [
    "# i\n",
    "x = 5\n",
    "print(x)\n",
    "print(type(x))"
   ]
  },
  {
   "cell_type": "code",
   "execution_count": null,
   "metadata": {},
   "outputs": [],
   "source": [
    "# ii\n",
    "y, z = (6, 8)\n",
    "print(y+z, \", \", y-z, \", \", y*z, \", \", y/z)"
   ]
  },
  {
   "cell_type": "code",
   "execution_count": null,
   "metadata": {},
   "outputs": [],
   "source": [
    "# iii\n",
    "s = \"hello world\"\n",
    "print(len(s))"
   ]
  },
  {
   "cell_type": "code",
   "execution_count": null,
   "metadata": {},
   "outputs": [],
   "source": [
    "# iv\n",
    "t = \"7\"\n",
    "v = int(t)\n",
    "print(t)"
   ]
  },
  {
   "cell_type": "markdown",
   "metadata": {},
   "source": [
    "2. Swap Variables"
   ]
  },
  {
   "cell_type": "code",
   "execution_count": null,
   "metadata": {},
   "outputs": [],
   "source": [
    "a = 5\n",
    "b = 6\n",
    "print(a, \", \", b)\n",
    "\n",
    "b += a\n",
    "a = b-a\n",
    "b -= a\n",
    "print(a, \", \", b)"
   ]
  },
  {
   "cell_type": "markdown",
   "metadata": {},
   "source": [
    "3. String Operations"
   ]
  },
  {
   "cell_type": "code",
   "execution_count": null,
   "metadata": {},
   "outputs": [],
   "source": [
    "s = \"I am a computer science student\"\n",
    "\n",
    "# i\n",
    "print(s[0])"
   ]
  },
  {
   "cell_type": "code",
   "execution_count": null,
   "metadata": {},
   "outputs": [],
   "source": [
    "# ii\n",
    "print(s[1:5])"
   ]
  },
  {
   "cell_type": "code",
   "execution_count": null,
   "metadata": {},
   "outputs": [],
   "source": [
    "# iii\n",
    "print(s[2:])"
   ]
  },
  {
   "cell_type": "markdown",
   "metadata": {},
   "source": [
    "4. List Operations"
   ]
  },
  {
   "cell_type": "code",
   "execution_count": null,
   "metadata": {},
   "outputs": [],
   "source": [
    "# i\n",
    "l = [1, 2, 3, 4, 5, 6]\n",
    "print(l)"
   ]
  },
  {
   "cell_type": "code",
   "execution_count": null,
   "metadata": {},
   "outputs": [],
   "source": [
    "# ii\n",
    "print(l[3:])"
   ]
  },
  {
   "cell_type": "code",
   "execution_count": null,
   "metadata": {},
   "outputs": [],
   "source": [
    "# iii\n",
    "l.insert(len(l)//2, 40)\n",
    "l.append(100)\n",
    "print(l)"
   ]
  },
  {
   "cell_type": "code",
   "execution_count": null,
   "metadata": {},
   "outputs": [],
   "source": [
    "# iv\n",
    "print(l[2:5])"
   ]
  },
  {
   "cell_type": "markdown",
   "metadata": {},
   "source": [
    "5. Merge Lists, display Even Elements"
   ]
  },
  {
   "cell_type": "code",
   "execution_count": null,
   "metadata": {},
   "outputs": [],
   "source": [
    "l1 = [1, 2, 3]\n",
    "l2 = [4, 5, 6]\n",
    "\n",
    "l = l1 + l2\n",
    "print(l)\n",
    "\n",
    "for x in l:\n",
    "    if x%2 == 0:\n",
    "        print(x, end=' ')\n",
    "print()\n",
    "\n",
    "# cool way\n",
    "t = [val for val in l if val % 2 == 0]"
   ]
  },
  {
   "cell_type": "markdown",
   "metadata": {},
   "source": [
    "6. Tuple Operations"
   ]
  },
  {
   "cell_type": "code",
   "execution_count": 1,
   "metadata": {},
   "outputs": [
    {
     "name": "stdout",
     "output_type": "stream",
     "text": [
      "('str', 5, 6.942)\n"
     ]
    }
   ],
   "source": [
    "# i\n",
    "tup1 = (\"str\", 5, 6.9420)\n",
    "print(tup1)"
   ]
  },
  {
   "cell_type": "code",
   "execution_count": 2,
   "metadata": {},
   "outputs": [
    {
     "name": "stdout",
     "output_type": "stream",
     "text": [
      "('programming', 'programming', 'programming')\n"
     ]
    }
   ],
   "source": [
    "# ii\n",
    "tup2 = (\"programming\", ) * 3\n",
    "print(tup2)"
   ]
  },
  {
   "cell_type": "code",
   "execution_count": 5,
   "metadata": {},
   "outputs": [
    {
     "name": "stdout",
     "output_type": "stream",
     "text": [
      "('str', 5, 6.942, 'programming', 'programming', 'programming')\n"
     ]
    }
   ],
   "source": [
    "# iii\n",
    "tup3 = tup1 + tup2\n",
    "print(tup3)"
   ]
  },
  {
   "cell_type": "markdown",
   "metadata": {},
   "source": [
    "7. Dictionary Operations"
   ]
  },
  {
   "cell_type": "code",
   "execution_count": 6,
   "metadata": {},
   "outputs": [
    {
     "name": "stdout",
     "output_type": "stream",
     "text": [
      "{'first_name': 'John', 'last_name': 'Doe', 'age': 25, 'favorite_colors': ['blue', 'green'], 'active': True}\n"
     ]
    }
   ],
   "source": [
    "# i\n",
    "d = {'first_name': 'John', 'last_name': 'Doe', 'age': 25, 'favorite_colors': ['blue', 'green'], 'active': True}\n",
    "print(d)"
   ]
  },
  {
   "cell_type": "code",
   "execution_count": 7,
   "metadata": {},
   "outputs": [
    {
     "name": "stdout",
     "output_type": "stream",
     "text": [
      "dict_keys(['first_name', 'last_name', 'age', 'favorite_colors', 'active'])\n",
      "dict_values(['John', 'Doe', 25, ['blue', 'green'], True])\n"
     ]
    }
   ],
   "source": [
    "# ii\n",
    "print(d.keys())\n",
    "print(d.values())"
   ]
  },
  {
   "cell_type": "code",
   "execution_count": null,
   "metadata": {},
   "outputs": [],
   "source": [
    "# iii\n",
    "print(d[list(d.keys())[1]])"
   ]
  },
  {
   "cell_type": "markdown",
   "metadata": {},
   "source": [
    "8. Even Odd Check"
   ]
  },
  {
   "cell_type": "code",
   "execution_count": null,
   "metadata": {},
   "outputs": [],
   "source": [
    "x = int(input(\"Enter a number: \"))\n",
    "if x & 1:\n",
    "    print(f\"{x} is odd.\")\n",
    "else:\n",
    "    print(f\"{x} is even.\")"
   ]
  },
  {
   "cell_type": "markdown",
   "metadata": {},
   "source": [
    "9. Loops"
   ]
  },
  {
   "cell_type": "code",
   "execution_count": 8,
   "metadata": {},
   "outputs": [
    {
     "name": "stdout",
     "output_type": "stream",
     "text": [
      "1 2 3 4 5 6 \n"
     ]
    }
   ],
   "source": [
    "l = [1, 2, 3, 4, 5, 6]\n",
    "for x in l:\n",
    "    print(x, end=' ')\n",
    "print()"
   ]
  },
  {
   "cell_type": "markdown",
   "metadata": {},
   "source": [
    "10. Unique Elements in List"
   ]
  },
  {
   "cell_type": "code",
   "execution_count": 9,
   "metadata": {},
   "outputs": [
    {
     "name": "stdout",
     "output_type": "stream",
     "text": [
      "[1, 2, 3, 4, 5]\n"
     ]
    }
   ],
   "source": [
    "def fun(l: list):\n",
    "    new = []\n",
    "    for i in l:\n",
    "        if i in new:\n",
    "            continue\n",
    "        else:\n",
    "            new.append(i)\n",
    "    return new\n",
    "\n",
    "l = [1, 2, 3, 4, 1, 2, 5, 4]\n",
    "new = fun(l)\n",
    "print(new)"
   ]
  },
  {
   "cell_type": "markdown",
   "metadata": {},
   "source": [
    "11. Student Grades Dictionary"
   ]
  },
  {
   "cell_type": "code",
   "execution_count": null,
   "metadata": {},
   "outputs": [],
   "source": [
    "student_grades = {'ram': 9, 'shyam': 10, 'ganesh': 7, 'ramesh': 4}\n",
    "\n",
    "# i\n",
    "student = input(\"Enter student name to check grade: \")\n",
    "if student in student_grades:\n",
    "    print(f\"{student} has scored {student_grades[student]} marks\")\n",
    "else:\n",
    "    print(f\"{student} is not found in the dictionary\")"
   ]
  },
  {
   "cell_type": "code",
   "execution_count": null,
   "metadata": {},
   "outputs": [],
   "source": [
    "# ii\n",
    "student = input(\"Enter student name to add to dict: \")\n",
    "if student in student_grades:\n",
    "    print(f\"{student} already in the dictionary\")\n",
    "else:\n",
    "    grade = int(input(\"Enter grade of student: \"))\n",
    "student_grades[student] = grade"
   ]
  },
  {
   "cell_type": "code",
   "execution_count": null,
   "metadata": {},
   "outputs": [],
   "source": [
    "# iii\n",
    "student = input(\"Enter name of student to update grade: \")\n",
    "if student in student_grades:\n",
    "    grade = int(input(\"Enter updated grade: \"))\n",
    "    student_grades[student] = grade\n",
    "else:\n",
    "    print(f\"{student} is not found in the dictionary\")"
   ]
  },
  {
   "cell_type": "code",
   "execution_count": null,
   "metadata": {},
   "outputs": [],
   "source": [
    "# iv\n",
    "for i in student_grades:\n",
    "    if student_grades[i] > 5:\n",
    "        print(f\"{i} has passed with a grade of {student_grades[i]}\")"
   ]
  },
  {
   "cell_type": "markdown",
   "metadata": {},
   "source": [
    "12. Store Inventory Dictionary"
   ]
  },
  {
   "cell_type": "code",
   "execution_count": null,
   "metadata": {},
   "outputs": [],
   "source": [
    "inventory = {'banana': 5, 'apple': 6, 'orange': 7}\n",
    "\n",
    "# i\n",
    "print(inventory)"
   ]
  },
  {
   "cell_type": "code",
   "execution_count": 11,
   "metadata": {},
   "outputs": [
    {
     "ename": "NameError",
     "evalue": "name 'inventory' is not defined",
     "output_type": "error",
     "traceback": [
      "\u001b[1;31m---------------------------------------------------------------------------\u001b[0m",
      "\u001b[1;31mNameError\u001b[0m                                 Traceback (most recent call last)",
      "Cell \u001b[1;32mIn[11], line 2\u001b[0m\n\u001b[0;32m      1\u001b[0m \u001b[38;5;66;03m# ii\u001b[39;00m\n\u001b[1;32m----> 2\u001b[0m \u001b[38;5;28;01mfor\u001b[39;00m i \u001b[38;5;129;01min\u001b[39;00m inventory:\n\u001b[0;32m      3\u001b[0m     \u001b[38;5;28mprint\u001b[39m(inventory[i], end\u001b[38;5;241m=\u001b[39m\u001b[38;5;124m'\u001b[39m\u001b[38;5;124m \u001b[39m\u001b[38;5;124m'\u001b[39m)\n\u001b[0;32m      4\u001b[0m \u001b[38;5;28mprint\u001b[39m()\n",
      "\u001b[1;31mNameError\u001b[0m: name 'inventory' is not defined"
     ]
    }
   ],
   "source": [
    "# ii\n",
    "for i in inventory:\n",
    "    print(inventory[i], end=' ')\n",
    "print()"
   ]
  },
  {
   "cell_type": "code",
   "execution_count": null,
   "metadata": {},
   "outputs": [],
   "source": [
    "# iii\n",
    "item = input('Enter item to check stock: ')\n",
    "if item in inventory:\n",
    "    print(f'{item} stock: {inventory[item]}')\n",
    "else:\n",
    "    print(f'{item} not found in inventory.')"
   ]
  },
  {
   "cell_type": "markdown",
   "metadata": {},
   "source": [
    "13. Positional, Keyword, Default Arguments"
   ]
  },
  {
   "cell_type": "code",
   "execution_count": null,
   "metadata": {},
   "outputs": [],
   "source": [
    "def calculate_rectangle_area(length = 5, width = 6):\n",
    "    return length * width\n",
    "\n",
    "# i\n",
    "print(calculate_rectangle_area(2, 3));"
   ]
  },
  {
   "cell_type": "code",
   "execution_count": null,
   "metadata": {},
   "outputs": [],
   "source": [
    "# ii\n",
    "print(calculate_rectangle_area(width = 3, length = 2))"
   ]
  },
  {
   "cell_type": "code",
   "execution_count": null,
   "metadata": {},
   "outputs": [],
   "source": [
    "# iii\n",
    "print(calculate_rectangle_area())"
   ]
  },
  {
   "cell_type": "markdown",
   "metadata": {},
   "source": [
    "14. Global Variables"
   ]
  },
  {
   "cell_type": "code",
   "execution_count": 13,
   "metadata": {},
   "outputs": [
    {
     "name": "stdout",
     "output_type": "stream",
     "text": [
      "a initially: 5\n",
      "a inside local fn: 4\n",
      "a after local fn: 5\n",
      "a inside global fn: 6\n",
      "a after global fn: 6\n"
     ]
    }
   ],
   "source": [
    "a = 5\n",
    "\n",
    "def local():\n",
    "    a = 4\n",
    "    print('a inside local fn:', a)\n",
    "\n",
    "def glob():\n",
    "    global a\n",
    "    a = 6\n",
    "    print('a inside global fn:', a)\n",
    "\n",
    "print('a initially:', a)\n",
    "local()\n",
    "print('a after local fn:', a)\n",
    "glob()\n",
    "print('a after global fn:', a)"
   ]
  },
  {
   "cell_type": "markdown",
   "metadata": {},
   "source": [
    "15. List of Dictionaries"
   ]
  },
  {
   "cell_type": "code",
   "execution_count": 14,
   "metadata": {},
   "outputs": [
    {
     "name": "stdout",
     "output_type": "stream",
     "text": [
      "{'1': 85.0, '2': 91.66666666666667, '3': 81.66666666666667}\n"
     ]
    }
   ],
   "source": [
    "def process_student_data(student_data: list[dict]):\n",
    "    d = {}\n",
    "    for student in student_data:\n",
    "        l = student['grades']\n",
    "        avg = 0\n",
    "        for i in l:\n",
    "            avg += i\n",
    "        avg /= len(l)\n",
    "        d[student['id']] = avg\n",
    "    return d\n",
    "\n",
    "student_data = [\n",
    "    {'id': '1', 'grades': [85, 92, 78]},\n",
    "    {'id': '2', 'grades': [95, 88, 92]},\n",
    "    {'id': '3', 'grades': [70, 85, 90]}]\n",
    "\n",
    "d = process_student_data(student_data)\n",
    "print(d)"
   ]
  }
 ],
 "metadata": {
  "kernelspec": {
   "display_name": "base",
   "language": "python",
   "name": "python3"
  },
  "language_info": {
   "codemirror_mode": {
    "name": "ipython",
    "version": 3
   },
   "file_extension": ".py",
   "mimetype": "text/x-python",
   "name": "python",
   "nbconvert_exporter": "python",
   "pygments_lexer": "ipython3",
   "version": "3.12.7"
  }
 },
 "nbformat": 4,
 "nbformat_minor": 2
}
