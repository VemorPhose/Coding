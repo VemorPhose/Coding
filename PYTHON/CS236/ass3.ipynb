{
 "cells": [
  {
   "cell_type": "markdown",
   "metadata": {},
   "source": [
    "1.1. Pandas df"
   ]
  },
  {
   "cell_type": "code",
   "execution_count": 74,
   "metadata": {},
   "outputs": [
    {
     "name": "stdout",
     "output_type": "stream",
     "text": [
      "\n",
      "Students with CPI > 60:\n",
      "  Std-Name  Roll no   CPI\n",
      "0      Ali      101  75.5\n",
      "2     Sara      103  82.1\n",
      "3      Ali      104  63.8\n",
      "\n",
      "CPI Statistics:\n",
      "Mean: 67.10\n",
      "Median: 63.80\n",
      "Standard Deviation: 11.30\n"
     ]
    }
   ],
   "source": [
    "import pandas as pd\n",
    "\n",
    "df = pd.DataFrame({\n",
    "    'Std-Name': ['Ali', 'Ahmed', 'Sara', 'Ali', 'Ahmed'],\n",
    "    'Roll no': [101, 102, 103, 104, 105],\n",
    "    'CPI': [75.5, 58.2, 82.1, 63.8, 55.9]\n",
    "})\n",
    "\n",
    "df_new = df[df['CPI'] > 60]\n",
    "\n",
    "cpi_mean = df['CPI'].mean()\n",
    "cpi_median = df['CPI'].median()\n",
    "cpi_std = df['CPI'].std()\n",
    "\n",
    "print(\"\\nStudents with CPI > 60:\")\n",
    "print(df_new)\n",
    "print(\"\\nCPI Statistics:\")\n",
    "print(f\"Mean: {cpi_mean:.2f}\")\n",
    "print(f\"Median: {cpi_median:.2f}\")\n",
    "print(f\"Standard Deviation: {cpi_std:.2f}\")"
   ]
  },
  {
   "cell_type": "markdown",
   "metadata": {},
   "source": [
    "1.2. Row/Column Sum"
   ]
  },
  {
   "cell_type": "code",
   "execution_count": 75,
   "metadata": {},
   "outputs": [
    {
     "name": "stdout",
     "output_type": "stream",
     "text": [
      "\n",
      "Total Books per Subject:\n",
      "------------------------\n",
      "Subjects\n",
      "Chemistry    200\n",
      "Maths        200\n",
      "Physics      400\n",
      "Name: No_of_Books, dtype: int64\n"
     ]
    }
   ],
   "source": [
    "import pandas as pd\n",
    "\n",
    "IIITG_library = pd.DataFrame({\n",
    "    'Subjects': ['Maths', 'Physics', 'Chemistry', 'Maths', 'Physics'],\n",
    "    'Book_Authors': ['R.D. Sharma', 'H.C. Verma', 'O.P. Tandon', 'S. Chand', 'Sumita Arora'],\n",
    "    'No_of_Books': [100, 150, 200, 100, 250]\n",
    "})\n",
    "\n",
    "books_per_subject = IIITG_library.groupby('Subjects')['No_of_Books'].sum()\n",
    "\n",
    "print(\"\\nTotal Books per Subject:\")\n",
    "print(\"------------------------\")\n",
    "print(books_per_subject)\n"
   ]
  },
  {
   "cell_type": "markdown",
   "metadata": {},
   "source": [
    "1.3. Read image using NP, .csv using PD"
   ]
  },
  {
   "cell_type": "code",
   "execution_count": 76,
   "metadata": {},
   "outputs": [
    {
     "name": "stdout",
     "output_type": "stream",
     "text": [
      "Original image shape: (2804, 1862)\n",
      "New image shape: (2803, 1861)\n"
     ]
    }
   ],
   "source": [
    "import numpy as np\n",
    "import pandas as pd\n",
    "from PIL import Image\n",
    "\n",
    "img_path = 'catto.jpg'\n",
    "csv_path = 'catto.csv'\n",
    "\n",
    "img = Image.open(img_path).convert('L')\n",
    "img_array = np.array(img)\n",
    "\n",
    "df = pd.DataFrame(img_array)\n",
    "print(f\"Original image shape: {df.shape}\")\n",
    "df.to_csv(csv_path, index=False)\n",
    "\n",
    "df_new = pd.read_csv(csv_path)\n",
    "df_new = df_new.iloc[:-1, :-1]\n",
    "print(f\"New image shape: {df_new.shape}\")\n"
   ]
  },
  {
   "cell_type": "markdown",
   "metadata": {},
   "source": [
    "1.4. Pandas remove rows"
   ]
  },
  {
   "cell_type": "code",
   "execution_count": 77,
   "metadata": {},
   "outputs": [
    {
     "name": "stdout",
     "output_type": "stream",
     "text": [
      "Original Data:\n",
      "    Name  Age   Salary\n",
      "0   John   25  50000.0\n",
      "1  Alice   15   5000.0\n",
      "2    Bob   30  -1000.0\n",
      "3   Emma   22  45000.0\n",
      "4   Mike   17   2000.0\n",
      "5  Sarah   28  55000.0\n",
      "\n",
      "Cleaned Data:\n",
      "    Name  Age   Salary\n",
      "0   John   25  50000.0\n",
      "3   Emma   22  45000.0\n",
      "5  Sarah   28  55000.0\n"
     ]
    }
   ],
   "source": [
    "import pandas as pd\n",
    "\n",
    "dirty_data = pd.DataFrame({\n",
    "    'Name': ['John', 'Alice', 'Bob', 'Emma', 'Mike', 'Sarah'],\n",
    "    'Age': [25, 15, 30, 22, 17, 28],\n",
    "    'Salary': [50000.0, 5000.0, -1000.0, 45000.0, 2000.0, 55000.0]\n",
    "})\n",
    "\n",
    "print(\"Original Data:\")\n",
    "print(dirty_data)\n",
    "\n",
    "clean_data = dirty_data[(dirty_data['Age'] >= 18) & (dirty_data['Salary'] >= 0)]\n",
    "\n",
    "print(\"\\nCleaned Data:\")\n",
    "print(clean_data)"
   ]
  },
  {
   "cell_type": "markdown",
   "metadata": {},
   "source": [
    "1.5. Pandas TimeStamp"
   ]
  },
  {
   "cell_type": "code",
   "execution_count": 78,
   "metadata": {},
   "outputs": [
    {
     "name": "stdout",
     "output_type": "stream",
     "text": [
      "DataFrame with Hour column:\n",
      "            TimeStamp  Hour\n",
      "0 2024-03-15 09:30:00     9\n",
      "1 2024-03-15 14:45:00    14\n",
      "2 2024-03-15 18:15:00    18\n",
      "3 2024-03-15 23:50:00    23\n"
     ]
    }
   ],
   "source": [
    "import pandas as pd\n",
    "from datetime import datetime\n",
    "\n",
    "time_df = pd.DataFrame({\n",
    "    'TimeStamp': [\n",
    "        '2024-03-15 09:30:00',\n",
    "        '2024-03-15 14:45:00',\n",
    "        '2024-03-15 18:15:00',\n",
    "        '2024-03-15 23:50:00'\n",
    "    ]\n",
    "})\n",
    "time_df['TimeStamp'] = pd.to_datetime(time_df['TimeStamp'])\n",
    "\n",
    "time_df['Hour'] = time_df['TimeStamp'].dt.hour\n",
    "\n",
    "print(\"DataFrame with Hour column:\")\n",
    "print(time_df)"
   ]
  },
  {
   "cell_type": "markdown",
   "metadata": {},
   "source": [
    "2.1. NumPy Vectorized Operations"
   ]
  },
  {
   "cell_type": "code",
   "execution_count": 79,
   "metadata": {},
   "outputs": [
    {
     "name": "stdout",
     "output_type": "stream",
     "text": [
      "Manual time (t1): 0.8513 seconds\n",
      "NumPy time (t2): 0.0109 seconds\n",
      "Speedup: 78.42x\n"
     ]
    }
   ],
   "source": [
    "import numpy as np\n",
    "import time\n",
    "\n",
    "p = np.random.random((106, 104)) * 100\n",
    "q = np.random.random((106, 104)) * 100\n",
    "qt = q.T\n",
    "\n",
    "m, n = p.shape    # m=106, n=104\n",
    "k = qt.shape[0]   # k=106\n",
    "\n",
    "start_time = time.time()\n",
    "result_manual = np.zeros((m, k))\n",
    "for i in range(m):\n",
    "    for j in range(k):\n",
    "        sum = 0\n",
    "        for l in range(n):\n",
    "            sum += p[i][l] * qt[j][l]\n",
    "        result_manual[i][j] = sum\n",
    "t1 = time.time() - start_time\n",
    "print(f\"Manual time (t1): {t1:.4f} seconds\")\n",
    "\n",
    "start_time = time.time()\n",
    "result_numpy = p @ qt\n",
    "time.sleep(0.0001)\n",
    "t2 = time.time() - start_time\n",
    "\n",
    "print(f\"NumPy time (t2): {t2:.4f} seconds\")\n",
    "\n",
    "speedup = t1/t2\n",
    "print(f\"Speedup: {speedup:.2f}x\")"
   ]
  },
  {
   "cell_type": "markdown",
   "metadata": {},
   "source": [
    "2.2 Extract Row and Column from NumPy array"
   ]
  },
  {
   "cell_type": "code",
   "execution_count": 80,
   "metadata": {},
   "outputs": [
    {
     "name": "stdout",
     "output_type": "stream",
     "text": [
      "Original array:\n",
      "[[ 1  2  3  4]\n",
      " [ 5  6  7  8]\n",
      " [ 9 10 11 12]]\n",
      "\n",
      "Second column:\n",
      "[ 2  6 10]\n",
      "\n",
      "Last row:\n",
      "[ 9 10 11 12]\n"
     ]
    }
   ],
   "source": [
    "import numpy as np\n",
    "\n",
    "arr = np.array([[1, 2, 3, 4],\n",
    "                [5, 6, 7, 8],\n",
    "                [9, 10, 11, 12]])\n",
    "\n",
    "second_column = arr[:, 1]\n",
    "\n",
    "last_row = arr[-1, :]\n",
    "\n",
    "print(\"Original array:\")\n",
    "print(arr)\n",
    "print(\"\\nSecond column:\")\n",
    "print(second_column)\n",
    "print(\"\\nLast row:\")\n",
    "print(last_row)"
   ]
  },
  {
   "cell_type": "markdown",
   "metadata": {},
   "source": [
    "2.3. Frequency of each unique number in 2D array"
   ]
  },
  {
   "cell_type": "code",
   "execution_count": 81,
   "metadata": {},
   "outputs": [
    {
     "name": "stdout",
     "output_type": "stream",
     "text": [
      "Original array:\n",
      "[[8 9 2 4 0 9]\n",
      " [9 4 2 5 5 9]\n",
      " [7 1 6 7 8 9]\n",
      " [9 4 1 2 9 2]\n",
      " [7 4 8 9 3 5]]\n",
      "\n",
      "Frequencies:\n",
      "Value 0 occurs 1 times\n",
      "Value 1 occurs 2 times\n",
      "Value 2 occurs 4 times\n",
      "Value 3 occurs 1 times\n",
      "Value 4 occurs 4 times\n",
      "Value 5 occurs 3 times\n",
      "Value 6 occurs 1 times\n",
      "Value 7 occurs 3 times\n",
      "Value 8 occurs 3 times\n",
      "Value 9 occurs 8 times\n"
     ]
    }
   ],
   "source": [
    "import numpy as np\n",
    "\n",
    "arr = np.random.randint(10, size=(5, 6))\n",
    "\n",
    "unique_values, counts = np.unique(arr, return_counts=True)\n",
    "\n",
    "print(\"Original array:\")\n",
    "print(arr)\n",
    "print(\"\\nFrequencies:\")\n",
    "for value, count in zip(unique_values, counts):\n",
    "    print(f\"Value {value} occurs {count} times\")"
   ]
  },
  {
   "cell_type": "markdown",
   "metadata": {},
   "source": [
    "2.4. Solve System of Linear Equations using Matrices"
   ]
  },
  {
   "cell_type": "code",
   "execution_count": 82,
   "metadata": {},
   "outputs": [
    {
     "name": "stdout",
     "output_type": "stream",
     "text": [
      "Matrix A:\n",
      "[[1 1 5 7 2]\n",
      " [2 7 3 2 2]\n",
      " [5 9 0 2 8]\n",
      " [4 4 2 5 0]\n",
      " [4 2 4 2 2]]\n",
      "\n",
      "Vector b:\n",
      "[1 4 1 3 5]\n",
      "\n",
      "Solution x:\n",
      "[ 0.68176583  0.25911708  0.93205374 -0.52552783 -0.46122841]\n"
     ]
    }
   ],
   "source": [
    "import numpy as np\n",
    "\n",
    "n = 5\n",
    "\n",
    "A = np.random.randint(10, size=(n, n))\n",
    "\n",
    "b = np.random.randint(10, size=(n))\n",
    "\n",
    "x = np.linalg.solve(A, b)\n",
    "\n",
    "print(\"Matrix A:\")\n",
    "print(A)\n",
    "print(\"\\nVector b:\")\n",
    "print(b)\n",
    "print(\"\\nSolution x:\")\n",
    "print(x)"
   ]
  },
  {
   "cell_type": "markdown",
   "metadata": {},
   "source": [
    "2.5. Frequency of number in array"
   ]
  },
  {
   "cell_type": "code",
   "execution_count": 83,
   "metadata": {},
   "outputs": [
    {
     "name": "stdout",
     "output_type": "stream",
     "text": [
      "The score 85 appears 7 times in the dataset\n"
     ]
    }
   ],
   "source": [
    "import numpy as np\n",
    "\n",
    "scores = np.array([85, 92, 75, 85, 90, 92, 85, 75, 85, 92, 75, 85, 90, 92, 85, 75, 85, 92])\n",
    "\n",
    "frequency = np.count_nonzero(scores == 85)\n",
    "\n",
    "print(f\"The score 85 appears {frequency} times in the dataset\")"
   ]
  },
  {
   "cell_type": "markdown",
   "metadata": {},
   "source": [
    "2.6. NumPy LinAlg Eigenvectors"
   ]
  },
  {
   "cell_type": "code",
   "execution_count": 84,
   "metadata": {},
   "outputs": [
    {
     "name": "stdout",
     "output_type": "stream",
     "text": [
      "Matrix A:\n",
      "[[ 2 -1  0]\n",
      " [-1  2 -1]\n",
      " [ 0 -1  2]]\n",
      "\n",
      "Eigenvalues:\n",
      "[3.41421356 2.         0.58578644]\n",
      "\n",
      "Eigenvectors (as columns):\n",
      "[[-5.00000000e-01 -7.07106781e-01  5.00000000e-01]\n",
      " [ 7.07106781e-01  4.19803081e-16  7.07106781e-01]\n",
      " [-5.00000000e-01  7.07106781e-01  5.00000000e-01]]\n"
     ]
    }
   ],
   "source": [
    "import numpy as np\n",
    "\n",
    "A = np.array([[2, -1, 0],\n",
    "              [-1, 2, -1],\n",
    "              [0, -1, 2]])\n",
    "\n",
    "eigenvalues, eigenvectors = np.linalg.eig(A)\n",
    "\n",
    "print(\"Matrix A:\")\n",
    "print(A)\n",
    "\n",
    "print(\"\\nEigenvalues:\")\n",
    "print(eigenvalues)\n",
    "\n",
    "print(\"\\nEigenvectors (as columns):\")\n",
    "print(eigenvectors)"
   ]
  },
  {
   "cell_type": "markdown",
   "metadata": {},
   "source": [
    "2.7. NumPy Broadcasting"
   ]
  },
  {
   "cell_type": "code",
   "execution_count": 85,
   "metadata": {},
   "outputs": [
    {
     "name": "stdout",
     "output_type": "stream",
     "text": [
      "Original Matrix X:\n",
      "[[1 2 3]\n",
      " [4 5 6]\n",
      " [7 8 9]]\n",
      "\n",
      "Column Means:\n",
      "[4. 5. 6.]\n",
      "\n",
      "Column Standard Deviations:\n",
      "[2.44948974 2.44948974 2.44948974]\n",
      "\n",
      "Standardized Matrix:\n",
      "[[-1.22474487 -1.22474487 -1.22474487]\n",
      " [ 0.          0.          0.        ]\n",
      " [ 1.22474487  1.22474487  1.22474487]]\n"
     ]
    }
   ],
   "source": [
    "import numpy as np\n",
    "\n",
    "X = np.array([[1, 2, 3],\n",
    "              [4, 5, 6],\n",
    "              [7, 8, 9]])\n",
    "\n",
    "col_means = np.mean(X, axis=0)\n",
    "col_stds = np.std(X, axis=0)\n",
    "\n",
    "X_standardized = (X - col_means) / col_stds\n",
    "\n",
    "print(\"Original Matrix X:\")\n",
    "print(X)\n",
    "\n",
    "print(\"\\nColumn Means:\")\n",
    "print(col_means)\n",
    "\n",
    "print(\"\\nColumn Standard Deviations:\")\n",
    "print(col_stds)\n",
    "\n",
    "print(\"\\nStandardized Matrix:\")\n",
    "print(X_standardized)"
   ]
  },
  {
   "cell_type": "markdown",
   "metadata": {},
   "source": [
    "2.8. SVD in NumPy"
   ]
  },
  {
   "cell_type": "code",
   "execution_count": 86,
   "metadata": {},
   "outputs": [
    {
     "name": "stdout",
     "output_type": "stream",
     "text": [
      "Original Matrix M:\n",
      "[[1 2]\n",
      " [3 4]\n",
      " [5 6]]\n",
      "\n",
      "U (left singular vectors):\n",
      "[[-0.2298477   0.88346102  0.40824829]\n",
      " [-0.52474482  0.24078249 -0.81649658]\n",
      " [-0.81964194 -0.40189603  0.40824829]]\n",
      "\n",
      "Σ (singular values):\n",
      "[[9.52551809 0.        ]\n",
      " [0.         0.51430058]\n",
      " [0.         0.        ]]\n",
      "\n",
      "V^T (right singular vectors transposed):\n",
      "[[-0.61962948 -0.78489445]\n",
      " [-0.78489445  0.61962948]]\n"
     ]
    }
   ],
   "source": [
    "import numpy as np\n",
    "\n",
    "M = np.array([[1, 2],\n",
    "              [3, 4],\n",
    "              [5, 6]])\n",
    "\n",
    "# Perform SVD\n",
    "U, s, Vt = np.linalg.svd(M)\n",
    "\n",
    "# Create diagonal matrix Sigma\n",
    "Sigma = np.zeros(M.shape)\n",
    "Sigma[:len(s), :len(s)] = np.diag(s)\n",
    "\n",
    "# Display components\n",
    "print(\"Original Matrix M:\")\n",
    "print(M)\n",
    "\n",
    "print(\"\\nU (left singular vectors):\")\n",
    "print(U)\n",
    "\n",
    "print(\"\\nΣ (singular values):\")\n",
    "print(Sigma)\n",
    "\n",
    "print(\"\\nV^T (right singular vectors transposed):\")\n",
    "print(Vt)"
   ]
  },
  {
   "cell_type": "markdown",
   "metadata": {},
   "source": [
    "3.1. Book Inventory Visualization"
   ]
  },
  {
   "cell_type": "code",
   "execution_count": 87,
   "metadata": {},
   "outputs": [
    {
     "data": {
      "image/png": "[encoded data removed]",
      "text/plain": [
       "<Figure size 1000x600 with 1 Axes>"
      ]
     },
     "metadata": {},
     "output_type": "display_data"
    }
   ],
   "source": [
    "import pandas as pd\n",
    "import matplotlib.pyplot as plt\n",
    "\n",
    "data = {\n",
    "    'Subject': ['Mathematics', 'Physics', 'Chemistry', 'Mathematics', 'Physics'],\n",
    "    'Author': ['R.D. Sharma', 'H.C. Verma', 'O.P. Tandon', 'S.K. Goyal', 'Resnick'],\n",
    "    'Quantity': [15, 12, 8, 10, 5]\n",
    "}\n",
    "df = pd.DataFrame(data)\n",
    "\n",
    "books_by_subject = df.groupby('Subject')['Quantity'].sum()\n",
    "\n",
    "plt.figure(figsize=(10, 6))\n",
    "bars = plt.bar(books_by_subject.index, books_by_subject.values, color=['skyblue', 'lightgreen', 'salmon'])\n",
    "\n",
    "plt.title('Total Books per Subject', fontsize=14, pad=15)\n",
    "plt.xlabel('Subject', fontsize=12)\n",
    "plt.ylabel('Number of Books', fontsize=12)\n",
    "\n",
    "for bar in bars:\n",
    "    height = bar.get_height()\n",
    "    plt.text(bar.get_x() + bar.get_width()/2., height,\n",
    "             f'{int(height)}',\n",
    "             ha='center', va='bottom')\n",
    "\n",
    "plt.show()"
   ]
  },
  {
   "cell_type": "markdown",
   "metadata": {},
   "source": [
    "3.2. Salary Distribution Visualization"
   ]
  },
  {
   "cell_type": "code",
   "execution_count": 88,
   "metadata": {},
   "outputs": [
    {
     "data": {
      "image/png": "[encoded data removed]",
      "text/plain": [
       "<Figure size 1000x600 with 1 Axes>"
      ]
     },
     "metadata": {},
     "output_type": "display_data"
    }
   ],
   "source": [
    "import numpy as np\n",
    "import matplotlib.pyplot as plt\n",
    "\n",
    "salaries = np.array([55, 62, 65, 58, 70, 55, 60, 68, 63, 55, 62, 150])\n",
    "\n",
    "plt.figure(figsize=(10, 6))\n",
    "plt.hist(salaries, bins=8, edgecolor='black', color='skyblue', alpha=0.7)\n",
    "\n",
    "plt.title('Distribution of Employee Salaries', fontsize=14, pad=15)\n",
    "plt.xlabel('Salary (in thousands of dollars)', fontsize=12)\n",
    "plt.ylabel('Frequency', fontsize=12)\n",
    "\n",
    "plt.grid(True, alpha=0.3, linestyle='--')\n",
    "\n",
    "plt.tight_layout()\n",
    "\n",
    "plt.show()"
   ]
  }
 ],
 "metadata": {
  "kernelspec": {
   "display_name": "base",
   "language": "python",
   "name": "python3"
  },
  "language_info": {
   "codemirror_mode": {
    "name": "ipython",
    "version": 3
   },
   "file_extension": ".py",
   "mimetype": "text/x-python",
   "name": "python",
   "nbconvert_exporter": "python",
   "pygments_lexer": "ipython3",
   "version": "3.12.7"
  }
 },
 "nbformat": 4,
 "nbformat_minor": 2
}
