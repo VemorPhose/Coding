{
 "cells": [
  {
   "cell_type": "code",
   "execution_count": null,
   "metadata": {
    "vscode": {
     "languageId": "plaintext"
    }
   },
   "outputs": [],
   "source": [
    "a = 5\n",
    "b = 6\n",
    "print(a, \", \", b)\n",
    "\n",
    "b += a\n",
    "a = b-a\n",
    "b -= a\n",
    "print(a, \", \", b)"
   ]
  }
 ],
 "metadata": {
  "language_info": {
   "name": "python"
  }
 },
 "nbformat": 4,
 "nbformat_minor": 2
}
